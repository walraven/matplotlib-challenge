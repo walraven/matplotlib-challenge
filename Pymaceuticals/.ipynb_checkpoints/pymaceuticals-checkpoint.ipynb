{
 "cells": [
  {
   "cell_type": "code",
   "execution_count": null,
   "metadata": {},
   "outputs": [],
   "source": [
    "#matplotlib-challenge by Taylor Walraven\n",
    "#objectives:\n",
    "# Creating a scatter plot that shows how the tumor volume changes over time for each treatment.\n",
    "# Creating a scatter plot that shows how the number of metastatic (cancer spreading) sites changes over time for each treatment.\n",
    "# Creating a scatter plot that shows the number of mice still alive through the course of treatment (Survival Rate)\n",
    "# Creating a bar graph that compares the total % tumor volume change for each drug across the full 45 days.\n",
    "# Include 3 observations about the results of the study. Use the visualizations you generated from the study data as the basis for your observations.\n",
    "#considerations:\n",
    "# You must use proper labeling of your plots, including aspects like: Plot Titles, Axes Labels, Legend Labels, X and Y Axis Limits, etc.\n",
    "# Your scatter plots must include error bars\n",
    "# Your legends should not be overlaid on top of any data.\n",
    "# Your bar graph should indicate tumor growth as red and tumor reduction as green.\n",
    "# It should also include a label with the percentage change for each bar. "
   ]
  },
  {
   "cell_type": "code",
   "execution_count": null,
   "metadata": {},
   "outputs": [],
   "source": [
    "import pandas as pd\n",
    "import matplotlib.pyplot as plt"
   ]
  },
  {
   "cell_type": "code",
   "execution_count": null,
   "metadata": {},
   "outputs": [],
   "source": []
  }
 ],
 "metadata": {
  "kernelspec": {
   "display_name": "Python 3",
   "language": "python",
   "name": "python3"
  },
  "language_info": {
   "codemirror_mode": {
    "name": "ipython",
    "version": 3
   },
   "file_extension": ".py",
   "mimetype": "text/x-python",
   "name": "python",
   "nbconvert_exporter": "python",
   "pygments_lexer": "ipython3",
   "version": "3.7.3"
  }
 },
 "nbformat": 4,
 "nbformat_minor": 2
}
