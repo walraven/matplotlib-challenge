{
 "cells": [
  {
   "cell_type": "code",
   "execution_count": 1,
   "metadata": {},
   "outputs": [],
   "source": [
    "#matplotlib-challenge by Taylor Walraven\n",
    "#objectives:\n",
    "# Creating a scatter plot that shows how the tumor volume changes over time for each treatment.\n",
    "# Creating a scatter plot that shows how the number of metastatic (cancer spreading) sites changes over time for each treatment.\n",
    "# Creating a scatter plot that shows the number of mice still alive through the course of treatment (Survival Rate)\n",
    "# Creating a bar graph that compares the total % tumor volume change for each drug across the full 45 days.\n",
    "# Include 3 observations about the results of the study. Use the visualizations you generated from the study data as the basis for your observations.\n",
    "#considerations:\n",
    "# You must use proper labeling of your plots, including aspects like: Plot Titles, Axes Labels, Legend Labels, X and Y Axis Limits, etc.\n",
    "# Your scatter plots must include error bars\n",
    "# Your legends should not be overlaid on top of any data.\n",
    "# Your bar graph should indicate tumor growth as red and tumor reduction as green.\n",
    "# It should also include a label with the percentage change for each bar. "
   ]
  },
  {
   "cell_type": "code",
   "execution_count": 2,
   "metadata": {},
   "outputs": [],
   "source": [
    "#Dependencies\n",
    "%matplotlib inline\n",
    "import pandas as pd\n",
    "import matplotlib.pyplot as plt\n",
    "import numpy as np\n",
    "\n",
    "#Ease of Use\n",
    "import warnings\n",
    "warnings.filterwarnings('ignore')\n",
    "\n",
    "#CSV Files\n",
    "mouse_drug_csv = \"data/mouse_drug_data.csv\"\n",
    "trials_csv = \"data/clinicaltrial_data.csv\""
   ]
  },
  {
   "cell_type": "code",
   "execution_count": 7,
   "metadata": {},
   "outputs": [],
   "source": [
    "#create dataframes\n",
    "mouse_df = pd.read_csv(mouse_drug_csv)\n",
    "trials_df = pd.read_csv(trials_csv)"
   ]
  },
  {
   "cell_type": "code",
   "execution_count": 12,
   "metadata": {},
   "outputs": [],
   "source": [
    "#combine dataframes by pulling the value from the drug column in mouse_df and adding it to the trials_df\n",
    "#create drug col in trials\n",
    "trials_df['Drug'] = ''"
   ]
  },
  {
   "cell_type": "code",
   "execution_count": 21,
   "metadata": {},
   "outputs": [
    {
     "data": {
      "text/html": [
       "<div>\n",
       "<style scoped>\n",
       "    .dataframe tbody tr th:only-of-type {\n",
       "        vertical-align: middle;\n",
       "    }\n",
       "\n",
       "    .dataframe tbody tr th {\n",
       "        vertical-align: top;\n",
       "    }\n",
       "\n",
       "    .dataframe thead th {\n",
       "        text-align: right;\n",
       "    }\n",
       "</style>\n",
       "<table border=\"1\" class=\"dataframe\">\n",
       "  <thead>\n",
       "    <tr style=\"text-align: right;\">\n",
       "      <th></th>\n",
       "      <th>Drug</th>\n",
       "    </tr>\n",
       "    <tr>\n",
       "      <th>Mouse ID</th>\n",
       "      <th></th>\n",
       "    </tr>\n",
       "  </thead>\n",
       "  <tbody>\n",
       "    <tr>\n",
       "      <th>f234</th>\n",
       "      <td>Stelasyn</td>\n",
       "    </tr>\n",
       "    <tr>\n",
       "      <th>x402</th>\n",
       "      <td>Stelasyn</td>\n",
       "    </tr>\n",
       "    <tr>\n",
       "      <th>a492</th>\n",
       "      <td>Stelasyn</td>\n",
       "    </tr>\n",
       "    <tr>\n",
       "      <th>w540</th>\n",
       "      <td>Stelasyn</td>\n",
       "    </tr>\n",
       "    <tr>\n",
       "      <th>v764</th>\n",
       "      <td>Stelasyn</td>\n",
       "    </tr>\n",
       "  </tbody>\n",
       "</table>\n",
       "</div>"
      ],
      "text/plain": [
       "              Drug\n",
       "Mouse ID          \n",
       "f234      Stelasyn\n",
       "x402      Stelasyn\n",
       "a492      Stelasyn\n",
       "w540      Stelasyn\n",
       "v764      Stelasyn"
      ]
     },
     "execution_count": 21,
     "metadata": {},
     "output_type": "execute_result"
    }
   ],
   "source": [
    "#populate trials_df['drug']\n",
    "mouse_df = mouse_df.set_index('Mouse ID')\n",
    "mouse_df.head()"
   ]
  },
  {
   "cell_type": "code",
   "execution_count": null,
   "metadata": {},
   "outputs": [],
   "source": [
    "#scatter plot tumor volume changes over time per treament\n",
    "#each mouse has a treatment and mult. timepoints from trials_df, each with a tumor volume and and sites count\n",
    "#"
   ]
  }
 ],
 "metadata": {
  "kernelspec": {
   "display_name": "Python 3",
   "language": "python",
   "name": "python3"
  },
  "language_info": {
   "codemirror_mode": {
    "name": "ipython",
    "version": 3
   },
   "file_extension": ".py",
   "mimetype": "text/x-python",
   "name": "python",
   "nbconvert_exporter": "python",
   "pygments_lexer": "ipython3",
   "version": "3.7.3"
  }
 },
 "nbformat": 4,
 "nbformat_minor": 2
}
